{
  "cells": [
    {
      "cell_type": "code",
      "source": [
        "!sudo apt install tesseract-ocr\n",
        "!pip install pytesseract\n",
        "!pip install opencv-contrib-python\n",
        "!pip install cloudinary\n",
        "!pip install Pillow\n"
      ],
      "metadata": {
        "colab": {
          "base_uri": "https://localhost:8080/"
        },
        "id": "BZxvweEWJBPp",
        "outputId": "8eaba98a-ac10-4c68-c88b-02e28ad9a6e7"
      },
      "execution_count": null,
      "outputs": [
        {
          "output_type": "stream",
          "name": "stdout",
          "text": [
            "Reading package lists... Done\n",
            "Building dependency tree       \n",
            "Reading state information... Done\n",
            "tesseract-ocr is already the newest version (4.00~git2288-10f4998a-2).\n",
            "The following packages were automatically installed and are no longer required:\n",
            "  libnvidia-common-460 nsight-compute-2020.2.0\n",
            "Use 'sudo apt autoremove' to remove them.\n",
            "0 upgraded, 0 newly installed, 0 to remove and 42 not upgraded.\n",
            "Requirement already satisfied: pytesseract in /usr/local/lib/python3.7/dist-packages (0.3.9)\n",
            "Requirement already satisfied: Pillow>=8.0.0 in /usr/local/lib/python3.7/dist-packages (from pytesseract) (9.0.0)\n",
            "Requirement already satisfied: packaging>=21.3 in /usr/local/lib/python3.7/dist-packages (from pytesseract) (21.3)\n",
            "Requirement already satisfied: pyparsing!=3.0.5,>=2.0.2 in /usr/local/lib/python3.7/dist-packages (from packaging>=21.3->pytesseract) (3.0.8)\n",
            "Requirement already satisfied: opencv-contrib-python in /usr/local/lib/python3.7/dist-packages (4.1.2.30)\n",
            "Requirement already satisfied: numpy>=1.14.5 in /usr/local/lib/python3.7/dist-packages (from opencv-contrib-python) (1.21.6)\n",
            "Requirement already satisfied: cloudinary in /usr/local/lib/python3.7/dist-packages (1.29.0)\n",
            "Requirement already satisfied: six in /usr/local/lib/python3.7/dist-packages (from cloudinary) (1.15.0)\n",
            "Requirement already satisfied: urllib3<2,>=1.26.5 in /usr/local/lib/python3.7/dist-packages (from cloudinary) (1.26.9)\n",
            "Requirement already satisfied: certifi in /usr/local/lib/python3.7/dist-packages (from cloudinary) (2021.10.8)\n",
            "Requirement already satisfied: Pillow in /usr/local/lib/python3.7/dist-packages (9.0.0)\n"
          ]
        }
      ],
      "id": "BZxvweEWJBPp"
    },
    {
      "cell_type": "code",
      "execution_count": null,
      "id": "c740aa29",
      "metadata": {
        "colab": {
          "base_uri": "https://localhost:8080/"
        },
        "id": "c740aa29",
        "outputId": "04044c48-b130-4f62-eccc-a6a2d977d44c"
      },
      "outputs": [
        {
          "output_type": "stream",
          "name": "stderr",
          "text": [
            "/usr/local/lib/python3.7/dist-packages/requests/__init__.py:91: RequestsDependencyWarning: urllib3 (1.26.9) or chardet (3.0.4) doesn't match a supported version!\n",
            "  RequestsDependencyWarning)\n"
          ]
        }
      ],
      "source": [
        "import cv2\n",
        "import glob\n",
        "import time\n",
        "import pytesseract\n",
        "import argparse\n",
        "import re\n",
        "import requests\n",
        "import json\n",
        "import cloudinary\n",
        "import cloudinary.uploader\n",
        "import cloudinary.api\n",
        "\n",
        "import numpy as np\n",
        "import matplotlib.pyplot as plt\n",
        "\n",
        "from datetime import datetime\n",
        "from PIL import Image\n",
        "#from pynq import allocate, Overlay"
      ]
    },
    {
      "cell_type": "code",
      "execution_count": null,
      "id": "26b164c1",
      "metadata": {
        "id": "26b164c1"
      },
      "outputs": [],
      "source": [
        "class PlateDetection:\n",
        "    #initializing the class with properties and necessary functions\n",
        "    def __init__(\n",
        "            self, pth_weights: str, \n",
        "            pth_cfg: str, pth_classes: str):\n",
        "        \n",
        "        self.net = cv2.dnn.readNet(pth_weights, pth_cfg)\n",
        "        self.classes = []\n",
        "        with open(pth_classes, 'r') as f:\n",
        "            self.classes = f.read().splitlines()\n",
        "        self.font = cv2.FONT_HERSHEY_PLAIN\n",
        "        self.color = (0, 0, 255)\n",
        "        self.coordinates = None\n",
        "        self.img = None\n",
        "        self.fig_image = None\n",
        "        self.roi_image = None\n",
        "        \n",
        "    # detection of object if the bounding box exceeds a certain confidence score    \n",
        "    def detect(self, img_path: str):\n",
        "        boxes = []\n",
        "        confidences = []\n",
        "        class_ids = []\n",
        "        orig = cv2.imread(img_path)\n",
        "        self.img = orig\n",
        "        img = orig.copy()\n",
        "        height, width, _ = img.shape\n",
        "        blob = cv2.dnn.blobFromImage(\n",
        "            img, \n",
        "            1 / 255, \n",
        "            (416, 416), \n",
        "            (0, 0, 0), \n",
        "            swapRB=True, \n",
        "            crop=False\n",
        "        )\n",
        "        self.net.setInput(blob)\n",
        "        output_layer_names = self.net.getUnconnectedOutLayersNames()\n",
        "        layer_outputs = self.net.forward(output_layer_names)\n",
        "\n",
        "        for output in layer_outputs:\n",
        "            for detection in output:\n",
        "                scores = detection[5:]\n",
        "                class_id = np.argmax(scores) \n",
        "                confidence = scores[class_id]\n",
        "                if confidence > 0.2:\n",
        "                    center_x = int(detection[0] * width)\n",
        "                    center_y = int(detection[1] * height)\n",
        "                    w = int(detection[2] * width)\n",
        "                    h = int(detection[3] * height)\n",
        "                    x = int(center_x - w / 2)\n",
        "                    y = int(center_y - h / 2)\n",
        "\n",
        "                    boxes.append([x, y, w, h])\n",
        "                    confidences.append((float(confidence)))\n",
        "                    class_ids.append(class_id)\n",
        "\n",
        "        indexes = cv2.dnn.NMSBoxes(\n",
        "            boxes, \n",
        "            confidences, \n",
        "            0.2, \n",
        "            0.4\n",
        "        )\n",
        "\n",
        "        if len(indexes) > 0:\n",
        "            for i in indexes.flatten():\n",
        "                x, y, w, h = boxes[i]\n",
        "                label = str(self.classes[class_ids[i]])\n",
        "                confidence = str(round(confidences[i],2))\n",
        "                cv2.rectangle(\n",
        "                    img,(x,y),\n",
        "                    (x + w, y + h), \n",
        "                    self.color, \n",
        "                    8\n",
        "                )\n",
        "                cv2.putText(\n",
        "                    img,\n",
        "                    label + ' ' + confidence, \n",
        "                    (x, y + 20),\n",
        "                    self.font, \n",
        "                    5, \n",
        "                    (255, 255, 255), \n",
        "                    3\n",
        "                )\n",
        "        self.fig_image = img\n",
        "        self.coordinates = (x, y, w, h)\n",
        "        return\n",
        "    \n",
        "    # only have the image contain the regions of interest\n",
        "    def crop_plate(self):\n",
        "        x, y, w, h = self.coordinates\n",
        "        roi = self.img[y:y + h, x:x + w]\n",
        "        self.roi_image = roi\n",
        "        return"
      ]
    },
    {
      "cell_type": "code",
      "execution_count": null,
      "id": "0d71d323",
      "metadata": {
        "id": "0d71d323"
      },
      "outputs": [],
      "source": [
        "# Adding image\n",
        "\n",
        "##### Image Version Server URLs #####\n",
        "version_prod_url = \"https://lpd.mosaicsensed.com/version\"\n",
        "\n",
        "#### Cloudinary API Configuration #####\n",
        "cloudinary.config( \n",
        "    cloud_name= \"dsqw5kd59\",\n",
        "    api_key= \"776857344324132\",\n",
        "    api_secret= \"cNO50ceR5k3YJrR7c4WQZq5ZQKE\",\n",
        "    secure= True\n",
        ")\n",
        "\n",
        "##### Cloudinary API Image Upload #####\n",
        "def upload_image(img_path):\n",
        "    resp = cloudinary.uploader.upload(\n",
        "        img_path,\n",
        "        invalidate = True,\n",
        "        folder = \"stream/\",\n",
        "        public_id = \"latest\"\n",
        "    )\n",
        "    \n",
        "    ##### Cloudinary Response #####    \n",
        "    print(resp)\n",
        "    \n",
        "    ##### Image Version Sync (Cacheing solution) #####\n",
        "    r = requests.post(\n",
        "        version_prod_url,\n",
        "        data = {\n",
        "            \"version\":resp[\"version\"]\n",
        "        }\n",
        "    )\n",
        "                                      "
      ]
    },
    {
      "cell_type": "code",
      "execution_count": null,
      "id": "ae5b4a39",
      "metadata": {
        "scrolled": true,
        "id": "ae5b4a39"
      },
      "outputs": [],
      "source": [
        "# Adding car entry to database\n",
        "\"\"\" GraphQL queries/mutations endpoint testing for license plate database (lpd) schema\"\"\"\n",
        "\n",
        "##### GraphQL Server URLs #####\n",
        "prod_url = \"https://lpd.mosaicsensed.com/graphql\"\n",
        "\n",
        "##### Add Car Mutation #####\n",
        "mutation_add_car = \"\"\"mutation AddCar($inputs: Car_Add_Inputs!) {\n",
        "  add_car(inputs: $inputs) {\n",
        "    lp\n",
        "    car_model\n",
        "    car_color\n",
        "    createdAt\n",
        "    updatedAt\n",
        "    location\n",
        "    name\n",
        "    state\n",
        "    inCapture\n",
        "  }\n",
        "}\n",
        "\"\"\"\n",
        "\n",
        "##### Current Date as String #####\n",
        "date = str(int(datetime.timestamp(datetime.now())))\n",
        "\n",
        "##### HTTP POST Request to GraphQL Endpoint #####\n",
        "def upload_data(plate):\n",
        "    r = requests.post(\n",
        "        prod_url,\n",
        "        json={\n",
        "            'query' : mutation_add_car,\n",
        "            'variables': {\n",
        "                \"inputs\":{\n",
        "                    \"lp\" : plate,\n",
        "                    \"car_model\": \"unknown\",\n",
        "                    \"car_color\": \"unknown\",\n",
        "                    \"location\": \"Los Angeles\",\n",
        "                    \"name\": \"unknown\",\n",
        "                    \"state\": \"CA\",\n",
        "                    # Determines if car is shown on frontend or not\n",
        "                    \"inCapture\": True\n",
        "                }\n",
        "            }\n",
        "        }\n",
        "    \n",
        "\n",
        "    )\n",
        "    ##### Request Status #####\n",
        "    print(r.status_code)\n",
        "    if(r.status_code != 200):\n",
        "        print(\"error\")\n",
        "    ##### Query Outputs #####\n",
        "    #if(r.text):\n",
        "        #parsed = json.load(r.text)\n",
        "        #print(json.dumps(parsed, indent=4, sort_keys=True))"
      ]
    },
    {
      "cell_type": "code",
      "execution_count": null,
      "id": "b472145e",
      "metadata": {
        "id": "b472145e"
      },
      "outputs": [],
      "source": [
        "#function to send data \n",
        "def run_kernel():\n",
        "    dma.sendchannel.transfer(in_buffer)\n",
        "    dma.recvchannel.transfer(out_buffer)    \n",
        "    resizer.write(0x00,0x81) # start\n",
        "    dma.sendchannel.wait()\n",
        "    dma.recvchannel.wait()\n",
        "\n",
        "#the resize operation which can only run on the pynq\n",
        "#need the bit files in the proper path\n",
        "def resize(image_path):\n",
        "    resize_design = Overlay(\"resizer.bit\")\n",
        "    dma = resize_design.axi_dma_0\n",
        "    resizer = resize_design.resize_accel_0\n",
        "    original_image = Image.open(image_path)\n",
        "    \n",
        "    resize_factor = 2 #can change based on need\n",
        "    new_width = int(old_width/resize_factor)\n",
        "    new_height = int(old_height/resize_factor)\n",
        "    in_buffer = allocate(shape=(old_height, old_width, 3), \n",
        "                           dtype=np.uint8, cacheable=1)\n",
        "    out_buffer = allocate(shape=(new_height, new_width, 3), \n",
        "                            dtype=np.uint8, cacheable=1)\n",
        "    resizer.register_map.src_rows = old_height\n",
        "    resizer.register_map.src_cols = old_width\n",
        "    resizer.register_map.dst_rows = new_height\n",
        "    resizer.register_map.dst_cols = new_width\n",
        "    \n",
        "    run_kernel()\n",
        "    resized_image = Image.fromarray(out_buffer)\n",
        "    return resized_image\n",
        "\n",
        "    del in_buffer\n",
        "    del out_buffer"
      ]
    },
    {
      "cell_type": "code",
      "execution_count": null,
      "id": "e1ab2f91",
      "metadata": {
        "scrolled": true,
        "colab": {
          "base_uri": "https://localhost:8080/",
          "height": 234
        },
        "id": "e1ab2f91",
        "outputId": "6eb4a7a4-ca96-44e5-99bd-7ed328b0c73a"
      },
      "outputs": [
        {
          "output_type": "error",
          "ename": "NameError",
          "evalue": "ignored",
          "traceback": [
            "\u001b[0;31m---------------------------------------------------------------------------\u001b[0m",
            "\u001b[0;31mNameError\u001b[0m                                 Traceback (most recent call last)",
            "\u001b[0;32m<ipython-input-9-c3dd91731b07>\u001b[0m in \u001b[0;36m<module>\u001b[0;34m()\u001b[0m\n\u001b[0;32m----> 1\u001b[0;31m pd = PlateDetection(\n\u001b[0m\u001b[1;32m      2\u001b[0m     \u001b[0mpth_weights\u001b[0m\u001b[0;34m=\u001b[0m\u001b[0;34m'yolov3_training_final.weights'\u001b[0m\u001b[0;34m,\u001b[0m\u001b[0;34m\u001b[0m\u001b[0;34m\u001b[0m\u001b[0m\n\u001b[1;32m      3\u001b[0m     \u001b[0mpth_cfg\u001b[0m\u001b[0;34m=\u001b[0m\u001b[0;34m'yolov3_testing.cfg'\u001b[0m\u001b[0;34m,\u001b[0m\u001b[0;34m\u001b[0m\u001b[0;34m\u001b[0m\u001b[0m\n\u001b[1;32m      4\u001b[0m     \u001b[0;31m# pth_cfg='yolov3_tiny_testing.cfg'\u001b[0m\u001b[0;34m\u001b[0m\u001b[0;34m\u001b[0m\u001b[0;34m\u001b[0m\u001b[0m\n\u001b[1;32m      5\u001b[0m     \u001b[0mpth_classes\u001b[0m\u001b[0;34m=\u001b[0m\u001b[0;34m'classes.txt'\u001b[0m\u001b[0;34m\u001b[0m\u001b[0;34m\u001b[0m\u001b[0m\n",
            "\u001b[0;31mNameError\u001b[0m: name 'PlateDetection' is not defined"
          ]
        }
      ],
      "source": [
        "#establishes the paths of the weights, config, and class files\n",
        "pd = PlateDetection(\n",
        "    pth_weights='yolov3_training_final.weights', \n",
        "    pth_cfg='yolov3_testing.cfg',\n",
        "    # pth_cfg='yolov3_tiny_testing.cfg'\n",
        "    pth_classes='classes.txt'\n",
        ")\n",
        "\n",
        "#goes through every png image in the test file\n",
        "#it runs the detect and outputs various steps of detection\n",
        "#saves the cropped and image with the bounding box\n",
        "for img in glob.glob('test-images/*.png'):\n",
        "    pd.detect(img)\n",
        "    plt.imshow(cv2.cvtColor(pd.fig_image, cv2.COLOR_BGR2RGB))\n",
        "    plt.savefig('detected_{}.png'.format(int(time.time())))\n",
        "    pd.crop_plate()\n",
        "    plt.figure(figsize=(10, 4))\n",
        "    plt.imshow(cv2.cvtColor(pd.roi_image, cv2.COLOR_BGR2RGB))\n",
        "    plt.savefig('plates/plate_{}.png'.format(int(time.time())))"
      ]
    },
    {
      "cell_type": "code",
      "execution_count": null,
      "id": "3d3323f5",
      "metadata": {
        "scrolled": false,
        "colab": {
          "base_uri": "https://localhost:8080/",
          "height": 254
        },
        "id": "3d3323f5",
        "outputId": "af39ef1d-b0d6-4582-ea66-5fc5a7c64e4d"
      },
      "outputs": [
        {
          "output_type": "stream",
          "name": "stdout",
          "text": [
            "{'asset_id': '131d64457c2019c6772155ffcf0928e6', 'public_id': 'stream/latest', 'version': 1651252588, 'version_id': '79307fa43583c8063a6bb6bea85025a4', 'signature': '6809feda7ad2d39f89bd0800dbaa893aa677c1e3', 'width': 720, 'height': 288, 'format': 'png', 'resource_type': 'image', 'created_at': '2022-01-15T00:00:56Z', 'tags': [], 'bytes': 170444, 'type': 'upload', 'etag': 'a17a45f1ac5bd682a504e69ac842a2db', 'placeholder': False, 'url': 'http://res.cloudinary.com/dsqw5kd59/image/upload/v1651252588/stream/latest.png', 'secure_url': 'https://res.cloudinary.com/dsqw5kd59/image/upload/v1651252588/stream/latest.png', 'folder': 'stream', 'overwritten': True, 'original_filename': 'plate_1651252574', 'api_key': '776857344324132'}\n",
            "| 7yo0160)\n",
            "\f\n",
            "200\n"
          ]
        },
        {
          "output_type": "display_data",
          "data": {
            "text/plain": [
              "<Figure size 432x288 with 1 Axes>"
            ],
            "image/png": "[encoded data removed]"
          },
          "metadata": {
            "needs_background": "light"
          }
        }
      ],
      "source": [
        "plates = []\n",
        "\n",
        "#goes through every png files saved in the cropped process\n",
        "#it uploads the image to the server and apply image processing\n",
        "#the result is read through the OCR\n",
        "#the text is processed to extract valid readings and sent to server\n",
        "for img in glob.glob('plates/*.png'):\n",
        "    upload_image(img)\n",
        "    plate = cv2.imread(img)\n",
        "    filtered = cv2.bilateralFilter(plate, 11, 17, 17) \n",
        "    denoised = cv2.medianBlur(filtered,3)\n",
        "    gray = cv2.cvtColor(denoised, cv2.COLOR_RGB2GRAY)\n",
        "    #thres = cv2.adaptiveThreshold(gray, 255, cv2.ADAPTIVE_THRESH_MEAN_C, cv2.THRESH_BINARY, 45, 15)\n",
        "    plt.imshow(gray)\n",
        "    plt.axis('off')\n",
        "    text = pytesseract.image_to_string(gray, config=\"--oem 3 --psm 4\") # Need to configure based on the state\n",
        "    print(text)\n",
        "    \n",
        "    for line in text.splitlines():\n",
        "        output = re.findall(r'\\w+', line)\n",
        "        output_txt = ''.join(output)\n",
        "        line_len = len(output_txt)\n",
        "        if(len(output_txt) > 5 and len(output_txt) < 9):\n",
        "            upload_data(output_txt)\n",
        "            plates.append(output_txt + '\\n')\n",
        "            \n",
        "f = open('plates.txt', 'w')\n",
        "f.writelines(plates)"
      ]
    },
    {
      "cell_type": "code",
      "execution_count": null,
      "metadata": {
        "scrolled": true,
        "id": "pQFev9HywWm-"
      },
      "outputs": [],
      "source": [
        "# Adding car entry to database\n",
        "\"\"\" GraphQL queries/mutations endpoint testing for license plate database (lpd) schema\"\"\"\n",
        "\n",
        "##### GraphQL Server URLs #####\n",
        "prod_url = \"https://lpd.mosaicsensed.com/graphql\"\n",
        "\n",
        "##### Add Car Mutation #####\n",
        "remove_all = \"\"\"mutation RemoveAll {\n",
        "  remove_all\n",
        "}\n",
        "\"\"\"\n",
        "\n",
        "##### Current Date as String #####\n",
        "date = str(int(datetime.timestamp(datetime.now())))\n",
        "\n",
        "##### HTTP POST Request to GraphQL Endpoint #####\n",
        "def remove():\n",
        "    r = requests.post(\n",
        "        prod_url,\n",
        "        json={\n",
        "            'query' : remove_all,\n",
        "            'variables': {\n",
        "                \"inputs\":{\n",
        "                    \"lp\" : \"\",\n",
        "                    \"car_model\": \"unknown\",\n",
        "                    \"car_color\": \"unknown\",\n",
        "                    \"location\": \"Los Angeles\",\n",
        "                    \"name\": \"unknown\",\n",
        "                    \"state\": \"CA\",\n",
        "                    # Determines if car is shown on frontend or not\n",
        "                    \"inCapture\": True\n",
        "                }\n",
        "            }         \n",
        "        }\n",
        "    \n",
        "\n",
        "    )\n",
        "    ##### Request Status #####\n",
        "    print(r.status_code)\n",
        "    if(r.status_code != 200):\n",
        "        print(\"error\")\n",
        "    ##### Query Outputs #####\n",
        "    if(r.text):\n",
        "        parsed = json.load(r.text)\n",
        "        print(json.dumps(parsed, indent=4, sort_keys=True))"
      ],
      "id": "pQFev9HywWm-"
    },
    {
      "cell_type": "code",
      "source": [
        "remove()"
      ],
      "metadata": {
        "colab": {
          "base_uri": "https://localhost:8080/",
          "height": 328
        },
        "id": "BOYrKBBywOs6",
        "outputId": "2509488e-5fbc-446b-99c9-98eac913135f"
      },
      "id": "BOYrKBBywOs6",
      "execution_count": null,
      "outputs": [
        {
          "output_type": "stream",
          "name": "stdout",
          "text": [
            "200\n"
          ]
        },
        {
          "output_type": "error",
          "ename": "AttributeError",
          "evalue": "ignored",
          "traceback": [
            "\u001b[0;31m---------------------------------------------------------------------------\u001b[0m",
            "\u001b[0;31mAttributeError\u001b[0m                            Traceback (most recent call last)",
            "\u001b[0;32m<ipython-input-15-0dea9e6ce47f>\u001b[0m in \u001b[0;36m<module>\u001b[0;34m()\u001b[0m\n\u001b[0;32m----> 1\u001b[0;31m \u001b[0mremove\u001b[0m\u001b[0;34m(\u001b[0m\u001b[0;34m)\u001b[0m\u001b[0;34m\u001b[0m\u001b[0;34m\u001b[0m\u001b[0m\n\u001b[0m",
            "\u001b[0;32m<ipython-input-11-72a35d306b45>\u001b[0m in \u001b[0;36mremove\u001b[0;34m()\u001b[0m\n\u001b[1;32m     42\u001b[0m     \u001b[0;31m##### Query Outputs #####\u001b[0m\u001b[0;34m\u001b[0m\u001b[0;34m\u001b[0m\u001b[0;34m\u001b[0m\u001b[0m\n\u001b[1;32m     43\u001b[0m     \u001b[0;32mif\u001b[0m\u001b[0;34m(\u001b[0m\u001b[0mr\u001b[0m\u001b[0;34m.\u001b[0m\u001b[0mtext\u001b[0m\u001b[0;34m)\u001b[0m\u001b[0;34m:\u001b[0m\u001b[0;34m\u001b[0m\u001b[0;34m\u001b[0m\u001b[0m\n\u001b[0;32m---> 44\u001b[0;31m         \u001b[0mparsed\u001b[0m \u001b[0;34m=\u001b[0m \u001b[0mjson\u001b[0m\u001b[0;34m.\u001b[0m\u001b[0mload\u001b[0m\u001b[0;34m(\u001b[0m\u001b[0mr\u001b[0m\u001b[0;34m.\u001b[0m\u001b[0mtext\u001b[0m\u001b[0;34m)\u001b[0m\u001b[0;34m\u001b[0m\u001b[0;34m\u001b[0m\u001b[0m\n\u001b[0m\u001b[1;32m     45\u001b[0m         \u001b[0mprint\u001b[0m\u001b[0;34m(\u001b[0m\u001b[0mjson\u001b[0m\u001b[0;34m.\u001b[0m\u001b[0mdumps\u001b[0m\u001b[0;34m(\u001b[0m\u001b[0mparsed\u001b[0m\u001b[0;34m,\u001b[0m \u001b[0mindent\u001b[0m\u001b[0;34m=\u001b[0m\u001b[0;36m4\u001b[0m\u001b[0;34m,\u001b[0m \u001b[0msort_keys\u001b[0m\u001b[0;34m=\u001b[0m\u001b[0;32mTrue\u001b[0m\u001b[0;34m)\u001b[0m\u001b[0;34m)\u001b[0m\u001b[0;34m\u001b[0m\u001b[0;34m\u001b[0m\u001b[0m\n",
            "\u001b[0;32m/usr/lib/python3.7/json/__init__.py\u001b[0m in \u001b[0;36mload\u001b[0;34m(fp, cls, object_hook, parse_float, parse_int, parse_constant, object_pairs_hook, **kw)\u001b[0m\n\u001b[1;32m    291\u001b[0m     \u001b[0mkwarg\u001b[0m\u001b[0;34m;\u001b[0m \u001b[0motherwise\u001b[0m\u001b[0;31m \u001b[0m\u001b[0;31m`\u001b[0m\u001b[0;31m`\u001b[0m\u001b[0mJSONDecoder\u001b[0m\u001b[0;31m`\u001b[0m\u001b[0;31m`\u001b[0m \u001b[0;32mis\u001b[0m \u001b[0mused\u001b[0m\u001b[0;34m.\u001b[0m\u001b[0;34m\u001b[0m\u001b[0;34m\u001b[0m\u001b[0m\n\u001b[1;32m    292\u001b[0m     \"\"\"\n\u001b[0;32m--> 293\u001b[0;31m     return loads(fp.read(),\n\u001b[0m\u001b[1;32m    294\u001b[0m         \u001b[0mcls\u001b[0m\u001b[0;34m=\u001b[0m\u001b[0mcls\u001b[0m\u001b[0;34m,\u001b[0m \u001b[0mobject_hook\u001b[0m\u001b[0;34m=\u001b[0m\u001b[0mobject_hook\u001b[0m\u001b[0;34m,\u001b[0m\u001b[0;34m\u001b[0m\u001b[0;34m\u001b[0m\u001b[0m\n\u001b[1;32m    295\u001b[0m         \u001b[0mparse_float\u001b[0m\u001b[0;34m=\u001b[0m\u001b[0mparse_float\u001b[0m\u001b[0;34m,\u001b[0m \u001b[0mparse_int\u001b[0m\u001b[0;34m=\u001b[0m\u001b[0mparse_int\u001b[0m\u001b[0;34m,\u001b[0m\u001b[0;34m\u001b[0m\u001b[0;34m\u001b[0m\u001b[0m\n",
            "\u001b[0;31mAttributeError\u001b[0m: 'str' object has no attribute 'read'"
          ]
        }
      ]
    }
  ],
  "metadata": {
    "kernelspec": {
      "display_name": "Python 3",
      "language": "python",
      "name": "python3"
    },
    "language_info": {
      "codemirror_mode": {
        "name": "ipython",
        "version": 3
      },
      "file_extension": ".py",
      "mimetype": "text/x-python",
      "name": "python",
      "nbconvert_exporter": "python",
      "pygments_lexer": "ipython3",
      "version": "3.8.2"
    },
    "colab": {
      "name": "inference.ipynb",
      "provenance": [],
      "collapsed_sections": []
    }
  },
  "nbformat": 4,
  "nbformat_minor": 5
}